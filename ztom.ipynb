{
 "cells": [
  {
   "cell_type": "code",
   "execution_count": 1,
   "id": "e298800a-0c86-4722-a998-b3e828fdd221",
   "metadata": {},
   "outputs": [],
   "source": [
    "nemo = [\"nemo\"]\n",
    "everyone = [\"dory\", \"bruce\", \"marlin\", \"nemo\", \"gill\", \"bloat\", \"nigel\", \"squirt\",\"darla\", \"hank\"]\n",
    "world = [\"nemo\"] * 100000"
   ]
  },
  {
   "cell_type": "code",
   "execution_count": 2,
   "id": "c2bbb353-bf79-42cc-ae57-017e7a58e82a",
   "metadata": {},
   "outputs": [
    {
     "data": {
      "text/plain": [
       "(['nemo'],\n",
       " ['dory',\n",
       "  'bruce',\n",
       "  'marlin',\n",
       "  'nemo',\n",
       "  'gill',\n",
       "  'bloat',\n",
       "  'nigel',\n",
       "  'squirt',\n",
       "  'darla',\n",
       "  'hank'])"
      ]
     },
     "execution_count": 2,
     "metadata": {},
     "output_type": "execute_result"
    }
   ],
   "source": [
    "nemo, everyone"
   ]
  },
  {
   "cell_type": "code",
   "execution_count": 3,
   "id": "af3b2b37-692a-4c45-b7a5-1b42522a690b",
   "metadata": {},
   "outputs": [
    {
     "data": {
      "text/plain": [
       "100000"
      ]
     },
     "execution_count": 3,
     "metadata": {},
     "output_type": "execute_result"
    }
   ],
   "source": [
    "len(world)"
   ]
  },
  {
   "cell_type": "code",
   "execution_count": 13,
   "id": "30eddb28-2278-4c8d-8443-613e8ef0e2f1",
   "metadata": {},
   "outputs": [],
   "source": [
    "import logging\n",
    "import time"
   ]
  },
  {
   "cell_type": "code",
   "execution_count": 14,
   "id": "c72cef98-1e56-41cf-8cfe-a4f1149fc6ed",
   "metadata": {},
   "outputs": [],
   "source": [
    "def findNemo(arr):\n",
    "    ti = time.time()\n",
    "    for i in arr:\n",
    "        if i == \"nemo\":\n",
    "            logging.info(\"found Nemo\")\n",
    "    tf = time.time()\n",
    "    print(\"Time take to run the program: \",tf-ti)"
   ]
  },
  {
   "cell_type": "code",
   "execution_count": 18,
   "id": "a713a6f7-f541-4170-a32b-8cd8a1213d45",
   "metadata": {},
   "outputs": [
    {
     "name": "stdout",
     "output_type": "stream",
     "text": [
      "Time take to run the program:  0.06027388572692871\n"
     ]
    }
   ],
   "source": [
    "findNemo(world)"
   ]
  },
  {
   "cell_type": "code",
   "execution_count": null,
   "id": "9e61909f-81b8-4f95-a2ac-00423fb7671a",
   "metadata": {},
   "outputs": [],
   "source": []
  }
 ],
 "metadata": {
  "kernelspec": {
   "display_name": "Python 3 (ipykernel)",
   "language": "python",
   "name": "python3"
  },
  "language_info": {
   "codemirror_mode": {
    "name": "ipython",
    "version": 3
   },
   "file_extension": ".py",
   "mimetype": "text/x-python",
   "name": "python",
   "nbconvert_exporter": "python",
   "pygments_lexer": "ipython3",
   "version": "3.9.12"
  }
 },
 "nbformat": 4,
 "nbformat_minor": 5
}
